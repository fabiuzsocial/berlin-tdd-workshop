{
 "cells": [
  {
   "cell_type": "code",
   "execution_count": 23,
   "metadata": {},
   "outputs": [],
   "source": [
    "import warnings\n",
    "\n",
    "warnings.filterwarnings(\"ignore\")\n",
    "\n",
    "import pandas as pd\n",
    "import numpy as np\n",
    "import matplotlib.pyplot as plt\n",
    "import seaborn as sns\n",
    "from pandas_profiling import ProfileReport\n",
    "\n",
    "from matplotlib.ticker import PercentFormatter\n",
    "plt.rcParams.update({ \"figure.figsize\" : (8, 5),\"axes.facecolor\" : \"white\", \"axes.edgecolor\":  \"black\"})\n",
    "plt.rcParams[\"figure.facecolor\"]= \"w\"\n",
    "pd.plotting.register_matplotlib_converters()\n",
    "pd.set_option('display.float_format', lambda x: '%.3f' % x)"
   ]
  },
  {
   "cell_type": "code",
   "execution_count": 24,
   "metadata": {},
   "outputs": [
    {
     "name": "stdout",
     "output_type": "stream",
     "text": [
      "Index(['brand', 'style', 'menWomen', 'name', 'fabric', 'price',\n",
      "       'maxHeightFront', 'minHeightFront', 'rivetHeightFront', 'maxWidthFront',\n",
      "       'minWidthFront', 'maxHeightBack', 'minHeightBack', 'maxWidthBack',\n",
      "       'minWidthBack', 'cutout', 'waistSize', 'updatedStyle', 'group',\n",
      "       'priceGroup', 'pocketArea', 'rectanglePhone', 'rectanglePen',\n",
      "       'rectangleWallet', 'rectangleHand', 'rectangeWallet'],\n",
      "      dtype='object')\n"
     ]
    }
   ],
   "source": [
    "df = pd.read_csv(\n",
    "    \"measurementRectanglesMissing.csv\"\n",
    ")  # to not index on user id..as we got duplicates that we need\n",
    "print(df.columns)"
   ]
  },
  {
   "cell_type": "markdown",
   "metadata": {},
   "source": [
    "# Missing Data"
   ]
  },
  {
   "cell_type": "code",
   "execution_count": 27,
   "metadata": {},
   "outputs": [],
   "source": [
    "df.price.isnull().sum() \n",
    "df_impute = df.copy()"
   ]
  },
  {
   "cell_type": "code",
   "execution_count": 28,
   "metadata": {},
   "outputs": [],
   "source": [
    "# Imputing with mean value\n",
    "def impute(series: pd.Series) -> pd.Series:\n",
    "    mean = series.mean()\n",
    "    return series.fillna(mean)"
   ]
  },
  {
   "cell_type": "code",
   "execution_count": 29,
   "metadata": {},
   "outputs": [],
   "source": [
    "df_impute[\"price\"] = impute(df_impute[\"price\"])"
   ]
  },
  {
   "cell_type": "code",
   "execution_count": 30,
   "metadata": {},
   "outputs": [
    {
     "data": {
      "text/plain": [
       "0"
      ]
     },
     "execution_count": 30,
     "metadata": {},
     "output_type": "execute_result"
    }
   ],
   "source": [
    "df_impute.price.isnull().sum() "
   ]
  },
  {
   "cell_type": "markdown",
   "metadata": {},
   "source": [
    "## Exercise 1:\n",
    "\n",
    "Add functions to impute with min, max and add tests\n"
   ]
  },
  {
   "cell_type": "markdown",
   "metadata": {},
   "source": [
    "# Let's look at the data\n",
    "\n",
    "- women jeans are more expensive\n",
    "- women pockets are smaller"
   ]
  },
  {
   "cell_type": "code",
   "execution_count": 31,
   "metadata": {},
   "outputs": [],
   "source": [
    "#transforming categorical columns to categorical type: brand     style menWomen\n",
    "df[\"brand\"] = df[\"brand\"].astype(\"category\")\n",
    "df[\"style\"] = df[\"style\"].astype(\"category\")\n",
    "df[\"menWomen\"] = df[\"menWomen\"].astype(\"category\")"
   ]
  },
  {
   "cell_type": "markdown",
   "metadata": {},
   "source": [
    "### Are women jeans more expensive?"
   ]
  },
  {
   "cell_type": "code",
   "execution_count": 32,
   "metadata": {},
   "outputs": [
    {
     "data": {
      "text/plain": [
       "count    72.000\n",
       "mean     80.989\n",
       "std      45.247\n",
       "min       9.990\n",
       "25%      49.980\n",
       "50%      73.975\n",
       "75%      95.713\n",
       "max     249.000\n",
       "Name: price, dtype: float64"
      ]
     },
     "execution_count": 32,
     "metadata": {},
     "output_type": "execute_result"
    }
   ],
   "source": [
    "df.price.describe()"
   ]
  },
  {
   "cell_type": "code",
   "execution_count": 33,
   "metadata": {},
   "outputs": [],
   "source": [
    "bins = [9, 50, 74, 96, 250]\n",
    "df['price_binned'] = pd.cut(df['price'], bins)"
   ]
  },
  {
   "cell_type": "code",
   "execution_count": 34,
   "metadata": {},
   "outputs": [
    {
     "data": {
      "text/html": [
       "<div>\n",
       "<style scoped>\n",
       "    .dataframe tbody tr th:only-of-type {\n",
       "        vertical-align: middle;\n",
       "    }\n",
       "\n",
       "    .dataframe tbody tr th {\n",
       "        vertical-align: top;\n",
       "    }\n",
       "\n",
       "    .dataframe thead th {\n",
       "        text-align: right;\n",
       "    }\n",
       "</style>\n",
       "<table border=\"1\" class=\"dataframe\">\n",
       "  <thead>\n",
       "    <tr style=\"text-align: right;\">\n",
       "      <th>price_binned</th>\n",
       "      <th>(9, 50]</th>\n",
       "      <th>(50, 74]</th>\n",
       "      <th>(74, 96]</th>\n",
       "      <th>(96, 250]</th>\n",
       "    </tr>\n",
       "    <tr>\n",
       "      <th>menWomen</th>\n",
       "      <th></th>\n",
       "      <th></th>\n",
       "      <th></th>\n",
       "      <th></th>\n",
       "    </tr>\n",
       "  </thead>\n",
       "  <tbody>\n",
       "    <tr>\n",
       "      <th>men</th>\n",
       "      <td>11</td>\n",
       "      <td>8</td>\n",
       "      <td>7</td>\n",
       "      <td>9</td>\n",
       "    </tr>\n",
       "    <tr>\n",
       "      <th>women</th>\n",
       "      <td>11</td>\n",
       "      <td>6</td>\n",
       "      <td>11</td>\n",
       "      <td>9</td>\n",
       "    </tr>\n",
       "  </tbody>\n",
       "</table>\n",
       "</div>"
      ],
      "text/plain": [
       "price_binned  (9, 50]  (50, 74]  (74, 96]  (96, 250]\n",
       "menWomen                                            \n",
       "men                11         8         7          9\n",
       "women              11         6        11          9"
      ]
     },
     "execution_count": 34,
     "metadata": {},
     "output_type": "execute_result"
    }
   ],
   "source": [
    "# - women jeans are more expensive\n",
    "# women jeans are not really more expensive\n",
    "pd.crosstab(df[\"menWomen\"], df.price_binned)"
   ]
  },
  {
   "cell_type": "markdown",
   "metadata": {},
   "source": [
    "### Are women pockets smaller?"
   ]
  },
  {
   "cell_type": "code",
   "execution_count": 35,
   "metadata": {},
   "outputs": [
    {
     "data": {
      "text/plain": [
       "count      80.000\n",
       "mean     8424.815\n",
       "std      2699.333\n",
       "min      4454.429\n",
       "25%      5905.184\n",
       "50%      8618.737\n",
       "75%     10724.592\n",
       "max     13102.032\n",
       "Name: pocketArea, dtype: float64"
      ]
     },
     "execution_count": 35,
     "metadata": {},
     "output_type": "execute_result"
    }
   ],
   "source": [
    "df.pocketArea.describe()"
   ]
  },
  {
   "cell_type": "code",
   "execution_count": 36,
   "metadata": {},
   "outputs": [],
   "source": [
    "bins = [4454, 5906, 8619, 10725, 13103]\n",
    "df['pocket_binned'] = pd.cut(df['pocketArea'], bins)"
   ]
  },
  {
   "cell_type": "code",
   "execution_count": 37,
   "metadata": {},
   "outputs": [
    {
     "data": {
      "text/html": [
       "<div>\n",
       "<style scoped>\n",
       "    .dataframe tbody tr th:only-of-type {\n",
       "        vertical-align: middle;\n",
       "    }\n",
       "\n",
       "    .dataframe tbody tr th {\n",
       "        vertical-align: top;\n",
       "    }\n",
       "\n",
       "    .dataframe thead th {\n",
       "        text-align: right;\n",
       "    }\n",
       "</style>\n",
       "<table border=\"1\" class=\"dataframe\">\n",
       "  <thead>\n",
       "    <tr style=\"text-align: right;\">\n",
       "      <th>pocket_binned</th>\n",
       "      <th>(4454, 5906]</th>\n",
       "      <th>(5906, 8619]</th>\n",
       "      <th>(8619, 10725]</th>\n",
       "      <th>(10725, 13103]</th>\n",
       "    </tr>\n",
       "    <tr>\n",
       "      <th>menWomen</th>\n",
       "      <th></th>\n",
       "      <th></th>\n",
       "      <th></th>\n",
       "      <th></th>\n",
       "    </tr>\n",
       "  </thead>\n",
       "  <tbody>\n",
       "    <tr>\n",
       "      <th>men</th>\n",
       "      <td>0.000</td>\n",
       "      <td>0.100</td>\n",
       "      <td>0.900</td>\n",
       "      <td>1.000</td>\n",
       "    </tr>\n",
       "    <tr>\n",
       "      <th>women</th>\n",
       "      <td>1.000</td>\n",
       "      <td>0.900</td>\n",
       "      <td>0.100</td>\n",
       "      <td>0.000</td>\n",
       "    </tr>\n",
       "  </tbody>\n",
       "</table>\n",
       "</div>"
      ],
      "text/plain": [
       "pocket_binned  (4454, 5906]  (5906, 8619]  (8619, 10725]  (10725, 13103]\n",
       "menWomen                                                                \n",
       "men                   0.000         0.100          0.900           1.000\n",
       "women                 1.000         0.900          0.100           0.000"
      ]
     },
     "execution_count": 37,
     "metadata": {},
     "output_type": "execute_result"
    }
   ],
   "source": [
    "pd.crosstab(df[\"menWomen\"], df.pocket_binned, normalize=\"columns\")"
   ]
  },
  {
   "cell_type": "markdown",
   "metadata": {},
   "source": [
    "# Get women pocket size score for each brand\n",
    "\n",
    "to get this score we can do a simple approach and a more complex one\n",
    "\n",
    "### Simple score with values from 0 to 2, the number of women pants that are larger than average in that brand\n",
    "\n",
    "- colums I would add: is_size_smaller_than_average ( per brand / per dataset )\n",
    "\n",
    "- method: get_pocket_size_score -> return a score based on if women pocket sizes are higher than average... by brand in relation to the rest maybe"
   ]
  },
  {
   "cell_type": "markdown",
   "metadata": {},
   "source": [
    "## Data Transformations\n",
    "### Exercise 2: \n",
    "\n",
    "#### Creating a column with data transformation of another column\n",
    "\n",
    "colums I would add: is_size_smaller_than_average ( per brand / per dataset )"
   ]
  },
  {
   "cell_type": "code",
   "execution_count": 39,
   "metadata": {},
   "outputs": [],
   "source": [
    "def is_greater_than_average(series: pd.Series) -> pd.Series :\n",
    "    avg = series.mean()\n",
    "    new_series = [0 if x <= avg else 1 for x in series]\n",
    "\n",
    "    return new_series"
   ]
  },
  {
   "cell_type": "code",
   "execution_count": 40,
   "metadata": {},
   "outputs": [],
   "source": [
    "df[\"size_greater_than_average\"] = is_greater_than_average(df[\"pocketArea\"])"
   ]
  },
  {
   "cell_type": "code",
   "execution_count": 41,
   "metadata": {},
   "outputs": [
    {
     "data": {
      "text/plain": [
       "41"
      ]
     },
     "execution_count": 41,
     "metadata": {},
     "output_type": "execute_result"
    }
   ],
   "source": [
    "df[\"size_greater_than_average\"].sum() \n",
    "# 41 of the pockets are of size greater than average"
   ]
  },
  {
   "cell_type": "code",
   "execution_count": 43,
   "metadata": {},
   "outputs": [],
   "source": [
    "# the test failed, and if we uncomment the next line we see this failes too\n",
    "#is_greater_than_average(df[\"pocketArea\"]).sum()"
   ]
  },
  {
   "cell_type": "markdown",
   "metadata": {},
   "source": [
    "## Exercise 2\n",
    "\n",
    "Fix test, we have accidentaly stumbled upon a situation where even though something works in the \"notebook\", when used as a function, and maybe later in a pipeline it could fail... so our test kinda failed for the wrong reasons\n",
    "\n",
    "Change the test to a type test\n",
    "\n",
    "Add more tests to this function, how does it work when all values in the series are the same?"
   ]
  },
  {
   "cell_type": "markdown",
   "metadata": {},
   "source": [
    "# Pocket size scoring\n",
    "\n",
    "method: get_pocket_size_score -> return a score based on if women pocket sizes are higher than average... by brand in relation to the rest maybe\n",
    "\n",
    "\n",
    "## Exercise 3\n",
    "\n",
    "exercise: \n",
    "- add method to new script .. called scoring.py for example, \n",
    "- add test file in test folder for this\n",
    "- write test, can the following method be tested as it is written? Does it follow testable functions conventions?"
   ]
  },
  {
   "cell_type": "code",
   "execution_count": null,
   "metadata": {},
   "outputs": [],
   "source": [
    "# count number of rows with women and \"size_greater_than_average\" > 0\n",
    "# input brand, menWomen, size_greater_than_average -> 80 rows\n",
    "# output brand, score  -> less ~ 40\n",
    "\n",
    "\n",
    "aggr = df.groupby(by=[\"brand\", \"menWomen\"],as_index=False)[\"size_greater_than_average\"].sum()"
   ]
  },
  {
   "cell_type": "code",
   "execution_count": null,
   "metadata": {},
   "outputs": [],
   "source": [
    "def get_sum_score_by_brand_and_gender(frame: pd.DataFrame, brand_col=\"brand\", gender_col=\"menWomen\", score_by=\"size_greater_than_average\") -> pd.DataFrame :\n",
    "    aggr = frame.groupby(by=[brand_col, gender_col],as_index=False)[score_by].sum()\n",
    "\n",
    "    return aggr"
   ]
  },
  {
   "cell_type": "code",
   "execution_count": null,
   "metadata": {},
   "outputs": [],
   "source": [
    "aggr = get_sum_score_by_brand_and_gender(df, \"brand\", \"menWomen\", \"size_greater_than_average\")\n",
    "aggr"
   ]
  },
  {
   "cell_type": "code",
   "execution_count": null,
   "metadata": {},
   "outputs": [],
   "source": [
    "aggr[aggr.menWomen == \"women\"]"
   ]
  },
  {
   "cell_type": "code",
   "execution_count": null,
   "metadata": {},
   "outputs": [],
   "source": [
    "#todo: write the test"
   ]
  },
  {
   "cell_type": "markdown",
   "metadata": {},
   "source": [
    "# Homework\n",
    "\n",
    "\n",
    "## a less all or nothing score\n",
    "\n",
    "we sort the pocket areas and assing to each row the index of the area value ( values should be 0 - dataframe size)\n",
    "- brand women score = average position (sum / 2)\n",
    "- brand men score = average position (sum / 2)\n",
    "- score = women / men\n",
    "\n",
    "todo: \n",
    "- write this as a testable method, add this to the scoring.py .. might be more than one\n",
    "- write test"
   ]
  },
  {
   "cell_type": "code",
   "execution_count": null,
   "metadata": {},
   "outputs": [],
   "source": [
    "df_small = df[[\"brand\", \"menWomen\", \"pocketArea\"]]"
   ]
  },
  {
   "cell_type": "code",
   "execution_count": null,
   "metadata": {},
   "outputs": [],
   "source": [
    "df_small = df_small.sort_values(\"pocketArea\").reset_index(drop=True)"
   ]
  },
  {
   "cell_type": "code",
   "execution_count": null,
   "metadata": {},
   "outputs": [],
   "source": [
    "df_small['rank'] = df_small.index + 1"
   ]
  },
  {
   "cell_type": "code",
   "execution_count": null,
   "metadata": {},
   "outputs": [],
   "source": [
    "df_small"
   ]
  },
  {
   "cell_type": "code",
   "execution_count": null,
   "metadata": {},
   "outputs": [],
   "source": [
    "aggr = df_small.groupby(by=[\"brand\", \"menWomen\"],as_index=False)[\"rank\"].sum()"
   ]
  },
  {
   "cell_type": "code",
   "execution_count": null,
   "metadata": {},
   "outputs": [],
   "source": [
    "aggr"
   ]
  },
  {
   "cell_type": "code",
   "execution_count": null,
   "metadata": {},
   "outputs": [],
   "source": []
  }
 ],
 "metadata": {
  "kernelspec": {
   "display_name": "Python 3",
   "language": "python",
   "name": "python3"
  },
  "language_info": {
   "codemirror_mode": {
    "name": "ipython",
    "version": 3
   },
   "file_extension": ".py",
   "mimetype": "text/x-python",
   "name": "python",
   "nbconvert_exporter": "python",
   "pygments_lexer": "ipython3",
   "version": "3.7.4"
  }
 },
 "nbformat": 4,
 "nbformat_minor": 4
}
