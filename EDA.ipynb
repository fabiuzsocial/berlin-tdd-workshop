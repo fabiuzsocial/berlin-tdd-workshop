{
 "cells": [
  {
   "cell_type": "code",
   "execution_count": null,
   "metadata": {},
   "outputs": [],
   "source": [
    "import warnings\n",
    "\n",
    "warnings.filterwarnings(\"ignore\")\n",
    "\n",
    "import pandas as pd\n",
    "import numpy as np\n",
    "import matplotlib.pyplot as plt\n",
    "import seaborn as sns\n",
    "from pandas_profiling import ProfileReport\n",
    "\n",
    "from matplotlib.ticker import PercentFormatter\n",
    "plt.rcParams.update({ \"figure.figsize\" : (8, 5),\"axes.facecolor\" : \"white\", \"axes.edgecolor\":  \"black\"})\n",
    "plt.rcParams[\"figure.facecolor\"]= \"w\"\n",
    "pd.plotting.register_matplotlib_converters()\n",
    "pd.set_option('display.float_format', lambda x: '%.3f' % x)"
   ]
  },
  {
   "cell_type": "code",
   "execution_count": null,
   "metadata": {},
   "outputs": [],
   "source": [
    "df = pd.read_json(\n",
    "    \"https://raw.githubusercontent.com/the-pudding/data/master/pockets/measurementRectangles.json\"\n",
    ")  # to not index on user id..as we got duplicates that we need\n",
    "print(df.columns)"
   ]
  },
  {
   "cell_type": "code",
   "execution_count": null,
   "metadata": {},
   "outputs": [],
   "source": [
    "df.describe()"
   ]
  },
  {
   "cell_type": "markdown",
   "metadata": {},
   "source": [
    "## Assumptions -> can become tests\n",
    "\n",
    "- women jeans are more expensive\n",
    "- women pockets are smaller\n",
    "- women jeans that are more expensive have smaller pockets -> you should wear a bag with if ur jeans are expensive"
   ]
  },
  {
   "cell_type": "code",
   "execution_count": null,
   "metadata": {},
   "outputs": [],
   "source": [
    "#transforming categorical columns to categorical type: brand     style menWomen\n",
    "df[\"brand\"] = df[\"brand\"].astype(\"category\")\n",
    "df[\"style\"] = df[\"style\"].astype(\"category\")\n",
    "df[\"menWomen\"] = df[\"menWomen\"].astype(\"category\")"
   ]
  },
  {
   "cell_type": "markdown",
   "metadata": {},
   "source": [
    "### Assumption 1"
   ]
  },
  {
   "cell_type": "code",
   "execution_count": null,
   "metadata": {},
   "outputs": [],
   "source": [
    "df.price.describe()"
   ]
  },
  {
   "cell_type": "code",
   "execution_count": null,
   "metadata": {},
   "outputs": [],
   "source": [
    "bins = [9, 50, 74, 96, 250]\n",
    "df['price_binned'] = pd.cut(df['price'], bins)"
   ]
  },
  {
   "cell_type": "code",
   "execution_count": null,
   "metadata": {},
   "outputs": [],
   "source": [
    "# - women jeans are more expensive\n",
    "# women jeans are not really more expensive\n",
    "pd.crosstab(df[\"menWomen\"], df.price_binned)"
   ]
  },
  {
   "cell_type": "markdown",
   "metadata": {},
   "source": [
    "### Assumption 2"
   ]
  },
  {
   "cell_type": "code",
   "execution_count": null,
   "metadata": {},
   "outputs": [],
   "source": [
    "df.pocketArea.describe()"
   ]
  },
  {
   "cell_type": "code",
   "execution_count": null,
   "metadata": {},
   "outputs": [],
   "source": [
    "bins = [4454, 5906, 8619, 10725, 13103]\n",
    "df['pocket_binned'] = pd.cut(df['pocketArea'], bins)"
   ]
  },
  {
   "cell_type": "code",
   "execution_count": null,
   "metadata": {},
   "outputs": [],
   "source": [
    "pd.crosstab(df[\"menWomen\"], df.pocket_binned, normalize=\"columns\")"
   ]
  },
  {
   "cell_type": "markdown",
   "metadata": {},
   "source": [
    "### Assumption 3"
   ]
  },
  {
   "cell_type": "code",
   "execution_count": null,
   "metadata": {},
   "outputs": [],
   "source": [
    "pd.crosstab(df[\"price_binned\"], df.pocket_binned, normalize=\"columns\")"
   ]
  },
  {
   "cell_type": "markdown",
   "metadata": {},
   "source": [
    "# Get women pocket size score for each brand\n",
    "\n",
    "to get this score we can do a simple approach and a more complex one\n",
    "\n",
    "### Simple score with values from 0 to 2, the number of women pants that are larger than average in that brand\n",
    "\n",
    "- colums I would add: is_size_smaller_than_average ( per brand / per dataset )\n",
    "\n",
    "- method: get_pocket_size_score -> return a score based on if women pocket sizes are higher than average... by brand in relation to the rest maybe"
   ]
  },
  {
   "cell_type": "markdown",
   "metadata": {},
   "source": [
    "## Data Transformations\n",
    "### Exercise 1: \n",
    "\n",
    "#### Creating a column with data transformation of another column\n",
    "\n",
    "colums I would add: is_size_smaller_than_average ( per brand / per dataset )"
   ]
  },
  {
   "cell_type": "code",
   "execution_count": null,
   "metadata": {},
   "outputs": [],
   "source": [
    "def is_greater_than_average(series: pd.Series) -> pd.Series :\n",
    "    avg = series.mean()\n",
    "    new_series = [0 if x <= avg else 1 for x in series]\n",
    "\n",
    "    return new_series"
   ]
  },
  {
   "cell_type": "code",
   "execution_count": null,
   "metadata": {},
   "outputs": [],
   "source": [
    "df[\"size_greater_than_average\"] = is_greater_than_average(df[\"pocketArea\"])"
   ]
  },
  {
   "cell_type": "code",
   "execution_count": null,
   "metadata": {},
   "outputs": [],
   "source": [
    "is_greater_than_average(df[\"pocketArea\"]).sum()"
   ]
  },
  {
   "cell_type": "markdown",
   "metadata": {},
   "source": [
    "## Exercise 2\n",
    "\n",
    "### Pocket size score\n",
    "\n",
    "method: get_pocket_size_score -> return a score based on if women pocket sizes are higher than average... by brand in relation to the rest maybe\n",
    "\n",
    "todo: write test"
   ]
  },
  {
   "cell_type": "code",
   "execution_count": null,
   "metadata": {},
   "outputs": [],
   "source": [
    "# count number of rows with women and \"size_greater_than_average\" > 0\n",
    "# input brand, menWomen, size_greater_than_average -> 80 rows\n",
    "# output brand, score  -> less ~ 40\n",
    "\n",
    "\n",
    "aggr = df.groupby(by=[\"brand\", \"menWomen\"],as_index=False)[\"size_greater_than_average\"].sum()"
   ]
  },
  {
   "cell_type": "code",
   "execution_count": null,
   "metadata": {},
   "outputs": [],
   "source": [
    "def get_sum_score_by_brand_and_gender(frame: pd.DataFrame, brand_col=\"brand\", gender_col=\"menWomen\", score_by=\"size_greater_than_average\") -> pd.DataFrame :\n",
    "    aggr = frame.groupby(by=[brand_col, gender_col],as_index=False)[score_by].sum()\n",
    "\n",
    "    return aggr"
   ]
  },
  {
   "cell_type": "code",
   "execution_count": null,
   "metadata": {},
   "outputs": [],
   "source": [
    "aggr = get_sum_score_by_brand_and_gender(df, \"brand\", \"menWomen\", \"size_greater_than_average\")\n",
    "aggr"
   ]
  },
  {
   "cell_type": "code",
   "execution_count": null,
   "metadata": {},
   "outputs": [],
   "source": [
    "aggr[aggr.menWomen == \"women\"]"
   ]
  },
  {
   "cell_type": "code",
   "execution_count": null,
   "metadata": {},
   "outputs": [],
   "source": [
    "#todo: write the test"
   ]
  },
  {
   "cell_type": "markdown",
   "metadata": {},
   "source": [
    "# Homework\n",
    "\n",
    "\n",
    "## a less all or nothing score\n",
    "\n",
    "we sort the pocket areas and assing to each row the index of the area value ( values should be 0 - dataframe size)\n",
    "- brand women score = average position (sum / 2)\n",
    "- brand men score = average position (sum / 2)\n",
    "- score = women / men\n",
    "\n",
    "todo: \n",
    "- write this as a testable method.. might be more than one\n",
    "- write test"
   ]
  },
  {
   "cell_type": "code",
   "execution_count": null,
   "metadata": {},
   "outputs": [],
   "source": [
    "df_small = df[[\"brand\", \"menWomen\", \"pocketArea\"]]"
   ]
  },
  {
   "cell_type": "code",
   "execution_count": null,
   "metadata": {},
   "outputs": [],
   "source": [
    "df_small = df_small.sort_values(\"pocketArea\").reset_index(drop=True)"
   ]
  },
  {
   "cell_type": "code",
   "execution_count": null,
   "metadata": {},
   "outputs": [],
   "source": [
    "df_small['rank'] = df_small.index + 1"
   ]
  },
  {
   "cell_type": "code",
   "execution_count": null,
   "metadata": {},
   "outputs": [],
   "source": [
    "df_small"
   ]
  },
  {
   "cell_type": "code",
   "execution_count": null,
   "metadata": {},
   "outputs": [],
   "source": [
    "aggr = df_small.groupby(by=[\"brand\", \"menWomen\"],as_index=False)[\"rank\"].sum()"
   ]
  },
  {
   "cell_type": "code",
   "execution_count": null,
   "metadata": {},
   "outputs": [],
   "source": [
    "aggr"
   ]
  },
  {
   "cell_type": "code",
   "execution_count": null,
   "metadata": {},
   "outputs": [],
   "source": []
  }
 ],
 "metadata": {
  "kernelspec": {
   "display_name": "Python 3",
   "language": "python",
   "name": "python3"
  },
  "language_info": {
   "codemirror_mode": {
    "name": "ipython",
    "version": 3
   },
   "file_extension": ".py",
   "mimetype": "text/x-python",
   "name": "python",
   "nbconvert_exporter": "python",
   "pygments_lexer": "ipython3",
   "version": "3.7.6"
  }
 },
 "nbformat": 4,
 "nbformat_minor": 4
}
